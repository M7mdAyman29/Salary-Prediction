{
 "cells": [
  {
   "cell_type": "markdown",
   "id": "90c21058",
   "metadata": {
    "papermill": {
     "duration": 0.008938,
     "end_time": "2022-08-23T05:27:22.621235",
     "exception": false,
     "start_time": "2022-08-23T05:27:22.612297",
     "status": "completed"
    },
    "tags": []
   },
   "source": [
    "# Table of contents\n",
    "\n",
    "1. Import Libraries\n",
    "2. Load Data\n",
    "3. Data Analysis\n",
    "4. Data Preprocessing\n",
    "5. Train Model\n",
    "6. Test Model on `x_test`\n",
    "7. Visualize Model\n",
    "8. Calculate R2 Score\n",
    "9. Calculate Root Mean Square Error\n",
    "10. Test Model on custom data\n",
    "11. Get Model Parameters\n"
   ]
  },
  {
   "cell_type": "markdown",
   "id": "34e4ebd1",
   "metadata": {
    "papermill": {
     "duration": 0.007291,
     "end_time": "2022-08-23T05:27:22.636496",
     "exception": false,
     "start_time": "2022-08-23T05:27:22.629205",
     "status": "completed"
    },
    "tags": []
   },
   "source": [
    "## 1) Import Libraries"
   ]
  },
  {
   "cell_type": "code",
   "execution_count": 1,
   "id": "a667dcf8",
   "metadata": {
    "execution": {
     "iopub.execute_input": "2022-08-23T05:27:22.655007Z",
     "iopub.status.busy": "2022-08-23T05:27:22.654219Z",
     "iopub.status.idle": "2022-08-23T05:27:24.087979Z",
     "shell.execute_reply": "2022-08-23T05:27:24.086430Z"
    },
    "papermill": {
     "duration": 1.447511,
     "end_time": "2022-08-23T05:27:24.092101",
     "exception": false,
     "start_time": "2022-08-23T05:27:22.644590",
     "status": "completed"
    },
    "scrolled": true,
    "tags": []
   },
   "outputs": [],
   "source": [
    "import numpy as np\n",
    "import pandas as pd \n",
    "import matplotlib.pyplot as plt\n",
    "import seaborn as sns\n",
    "from sklearn.model_selection import train_test_split\n",
    "from sklearn.linear_model import LinearRegression\n",
    "from sklearn.metrics import r2_score,mean_squared_error"
   ]
  },
  {
   "cell_type": "markdown",
   "id": "2e83f425",
   "metadata": {
    "papermill": {
     "duration": 0.007443,
     "end_time": "2022-08-23T05:27:24.110567",
     "exception": false,
     "start_time": "2022-08-23T05:27:24.103124",
     "status": "completed"
    },
    "tags": []
   },
   "source": [
    "## 2) Load Data"
   ]
  },
  {
   "cell_type": "code",
   "execution_count": 2,
   "id": "be07be7e",
   "metadata": {
    "execution": {
     "iopub.execute_input": "2022-08-23T05:27:24.131273Z",
     "iopub.status.busy": "2022-08-23T05:27:24.130157Z",
     "iopub.status.idle": "2022-08-23T05:27:24.148831Z",
     "shell.execute_reply": "2022-08-23T05:27:24.147605Z"
    },
    "papermill": {
     "duration": 0.033183,
     "end_time": "2022-08-23T05:27:24.151569",
     "exception": false,
     "start_time": "2022-08-23T05:27:24.118386",
     "status": "completed"
    },
    "tags": []
   },
   "outputs": [],
   "source": [
    "data = pd.read_csv(\"../input/salary-data/Salary_Data.csv\")"
   ]
  },
  {
   "cell_type": "markdown",
   "id": "a744b55f",
   "metadata": {
    "papermill": {
     "duration": 0.007207,
     "end_time": "2022-08-23T05:27:24.166580",
     "exception": false,
     "start_time": "2022-08-23T05:27:24.159373",
     "status": "completed"
    },
    "tags": []
   },
   "source": [
    "## 3) Data Analysis"
   ]
  },
  {
   "cell_type": "code",
   "execution_count": 3,
   "id": "06e6a4ac",
   "metadata": {
    "execution": {
     "iopub.execute_input": "2022-08-23T05:27:24.183776Z",
     "iopub.status.busy": "2022-08-23T05:27:24.183037Z",
     "iopub.status.idle": "2022-08-23T05:27:24.210646Z",
     "shell.execute_reply": "2022-08-23T05:27:24.209347Z"
    },
    "papermill": {
     "duration": 0.04008,
     "end_time": "2022-08-23T05:27:24.214159",
     "exception": false,
     "start_time": "2022-08-23T05:27:24.174079",
     "status": "completed"
    },
    "scrolled": true,
    "tags": []
   },
   "outputs": [
    {
     "name": "stdout",
     "output_type": "stream",
     "text": [
      "<class 'pandas.core.frame.DataFrame'>\n",
      "RangeIndex: 30 entries, 0 to 29\n",
      "Data columns (total 2 columns):\n",
      " #   Column           Non-Null Count  Dtype  \n",
      "---  ------           --------------  -----  \n",
      " 0   YearsExperience  30 non-null     float64\n",
      " 1   Salary           30 non-null     float64\n",
      "dtypes: float64(2)\n",
      "memory usage: 608.0 bytes\n"
     ]
    }
   ],
   "source": [
    "data.info()"
   ]
  },
  {
   "cell_type": "code",
   "execution_count": 4,
   "id": "520156aa",
   "metadata": {
    "execution": {
     "iopub.execute_input": "2022-08-23T05:27:24.232474Z",
     "iopub.status.busy": "2022-08-23T05:27:24.232095Z",
     "iopub.status.idle": "2022-08-23T05:27:24.259666Z",
     "shell.execute_reply": "2022-08-23T05:27:24.258266Z"
    },
    "papermill": {
     "duration": 0.039939,
     "end_time": "2022-08-23T05:27:24.262917",
     "exception": false,
     "start_time": "2022-08-23T05:27:24.222978",
     "status": "completed"
    },
    "tags": []
   },
   "outputs": [
    {
     "data": {
      "text/html": [
       "<div>\n",
       "<style scoped>\n",
       "    .dataframe tbody tr th:only-of-type {\n",
       "        vertical-align: middle;\n",
       "    }\n",
       "\n",
       "    .dataframe tbody tr th {\n",
       "        vertical-align: top;\n",
       "    }\n",
       "\n",
       "    .dataframe thead th {\n",
       "        text-align: right;\n",
       "    }\n",
       "</style>\n",
       "<table border=\"1\" class=\"dataframe\">\n",
       "  <thead>\n",
       "    <tr style=\"text-align: right;\">\n",
       "      <th></th>\n",
       "      <th>YearsExperience</th>\n",
       "      <th>Salary</th>\n",
       "    </tr>\n",
       "  </thead>\n",
       "  <tbody>\n",
       "    <tr>\n",
       "      <th>count</th>\n",
       "      <td>30.000000</td>\n",
       "      <td>30.000000</td>\n",
       "    </tr>\n",
       "    <tr>\n",
       "      <th>mean</th>\n",
       "      <td>5.313333</td>\n",
       "      <td>76003.000000</td>\n",
       "    </tr>\n",
       "    <tr>\n",
       "      <th>std</th>\n",
       "      <td>2.837888</td>\n",
       "      <td>27414.429785</td>\n",
       "    </tr>\n",
       "    <tr>\n",
       "      <th>min</th>\n",
       "      <td>1.100000</td>\n",
       "      <td>37731.000000</td>\n",
       "    </tr>\n",
       "    <tr>\n",
       "      <th>25%</th>\n",
       "      <td>3.200000</td>\n",
       "      <td>56720.750000</td>\n",
       "    </tr>\n",
       "    <tr>\n",
       "      <th>50%</th>\n",
       "      <td>4.700000</td>\n",
       "      <td>65237.000000</td>\n",
       "    </tr>\n",
       "    <tr>\n",
       "      <th>75%</th>\n",
       "      <td>7.700000</td>\n",
       "      <td>100544.750000</td>\n",
       "    </tr>\n",
       "    <tr>\n",
       "      <th>max</th>\n",
       "      <td>10.500000</td>\n",
       "      <td>122391.000000</td>\n",
       "    </tr>\n",
       "  </tbody>\n",
       "</table>\n",
       "</div>"
      ],
      "text/plain": [
       "       YearsExperience         Salary\n",
       "count        30.000000      30.000000\n",
       "mean          5.313333   76003.000000\n",
       "std           2.837888   27414.429785\n",
       "min           1.100000   37731.000000\n",
       "25%           3.200000   56720.750000\n",
       "50%           4.700000   65237.000000\n",
       "75%           7.700000  100544.750000\n",
       "max          10.500000  122391.000000"
      ]
     },
     "execution_count": 4,
     "metadata": {},
     "output_type": "execute_result"
    }
   ],
   "source": [
    "data.describe()"
   ]
  },
  {
   "cell_type": "code",
   "execution_count": 5,
   "id": "6ff45342",
   "metadata": {
    "execution": {
     "iopub.execute_input": "2022-08-23T05:27:24.281029Z",
     "iopub.status.busy": "2022-08-23T05:27:24.280565Z",
     "iopub.status.idle": "2022-08-23T05:27:24.292230Z",
     "shell.execute_reply": "2022-08-23T05:27:24.291033Z"
    },
    "papermill": {
     "duration": 0.023647,
     "end_time": "2022-08-23T05:27:24.294654",
     "exception": false,
     "start_time": "2022-08-23T05:27:24.271007",
     "status": "completed"
    },
    "tags": []
   },
   "outputs": [
    {
     "data": {
      "text/html": [
       "<div>\n",
       "<style scoped>\n",
       "    .dataframe tbody tr th:only-of-type {\n",
       "        vertical-align: middle;\n",
       "    }\n",
       "\n",
       "    .dataframe tbody tr th {\n",
       "        vertical-align: top;\n",
       "    }\n",
       "\n",
       "    .dataframe thead th {\n",
       "        text-align: right;\n",
       "    }\n",
       "</style>\n",
       "<table border=\"1\" class=\"dataframe\">\n",
       "  <thead>\n",
       "    <tr style=\"text-align: right;\">\n",
       "      <th></th>\n",
       "      <th>YearsExperience</th>\n",
       "      <th>Salary</th>\n",
       "    </tr>\n",
       "  </thead>\n",
       "  <tbody>\n",
       "    <tr>\n",
       "      <th>25</th>\n",
       "      <td>9.0</td>\n",
       "      <td>105582.0</td>\n",
       "    </tr>\n",
       "    <tr>\n",
       "      <th>26</th>\n",
       "      <td>9.5</td>\n",
       "      <td>116969.0</td>\n",
       "    </tr>\n",
       "    <tr>\n",
       "      <th>27</th>\n",
       "      <td>9.6</td>\n",
       "      <td>112635.0</td>\n",
       "    </tr>\n",
       "    <tr>\n",
       "      <th>28</th>\n",
       "      <td>10.3</td>\n",
       "      <td>122391.0</td>\n",
       "    </tr>\n",
       "    <tr>\n",
       "      <th>29</th>\n",
       "      <td>10.5</td>\n",
       "      <td>121872.0</td>\n",
       "    </tr>\n",
       "  </tbody>\n",
       "</table>\n",
       "</div>"
      ],
      "text/plain": [
       "    YearsExperience    Salary\n",
       "25              9.0  105582.0\n",
       "26              9.5  116969.0\n",
       "27              9.6  112635.0\n",
       "28             10.3  122391.0\n",
       "29             10.5  121872.0"
      ]
     },
     "execution_count": 5,
     "metadata": {},
     "output_type": "execute_result"
    }
   ],
   "source": [
    "data.tail()"
   ]
  },
  {
   "cell_type": "code",
   "execution_count": 6,
   "id": "ef447d43",
   "metadata": {
    "execution": {
     "iopub.execute_input": "2022-08-23T05:27:24.312478Z",
     "iopub.status.busy": "2022-08-23T05:27:24.312082Z",
     "iopub.status.idle": "2022-08-23T05:27:24.324029Z",
     "shell.execute_reply": "2022-08-23T05:27:24.322706Z"
    },
    "papermill": {
     "duration": 0.023931,
     "end_time": "2022-08-23T05:27:24.326582",
     "exception": false,
     "start_time": "2022-08-23T05:27:24.302651",
     "status": "completed"
    },
    "tags": []
   },
   "outputs": [
    {
     "data": {
      "text/html": [
       "<div>\n",
       "<style scoped>\n",
       "    .dataframe tbody tr th:only-of-type {\n",
       "        vertical-align: middle;\n",
       "    }\n",
       "\n",
       "    .dataframe tbody tr th {\n",
       "        vertical-align: top;\n",
       "    }\n",
       "\n",
       "    .dataframe thead th {\n",
       "        text-align: right;\n",
       "    }\n",
       "</style>\n",
       "<table border=\"1\" class=\"dataframe\">\n",
       "  <thead>\n",
       "    <tr style=\"text-align: right;\">\n",
       "      <th></th>\n",
       "      <th>YearsExperience</th>\n",
       "      <th>Salary</th>\n",
       "    </tr>\n",
       "  </thead>\n",
       "  <tbody>\n",
       "    <tr>\n",
       "      <th>0</th>\n",
       "      <td>1.1</td>\n",
       "      <td>39343.0</td>\n",
       "    </tr>\n",
       "    <tr>\n",
       "      <th>1</th>\n",
       "      <td>1.3</td>\n",
       "      <td>46205.0</td>\n",
       "    </tr>\n",
       "    <tr>\n",
       "      <th>2</th>\n",
       "      <td>1.5</td>\n",
       "      <td>37731.0</td>\n",
       "    </tr>\n",
       "    <tr>\n",
       "      <th>3</th>\n",
       "      <td>2.0</td>\n",
       "      <td>43525.0</td>\n",
       "    </tr>\n",
       "    <tr>\n",
       "      <th>4</th>\n",
       "      <td>2.2</td>\n",
       "      <td>39891.0</td>\n",
       "    </tr>\n",
       "  </tbody>\n",
       "</table>\n",
       "</div>"
      ],
      "text/plain": [
       "   YearsExperience   Salary\n",
       "0              1.1  39343.0\n",
       "1              1.3  46205.0\n",
       "2              1.5  37731.0\n",
       "3              2.0  43525.0\n",
       "4              2.2  39891.0"
      ]
     },
     "execution_count": 6,
     "metadata": {},
     "output_type": "execute_result"
    }
   ],
   "source": [
    "data.head()"
   ]
  },
  {
   "cell_type": "code",
   "execution_count": 7,
   "id": "bcc505af",
   "metadata": {
    "execution": {
     "iopub.execute_input": "2022-08-23T05:27:24.345581Z",
     "iopub.status.busy": "2022-08-23T05:27:24.345204Z",
     "iopub.status.idle": "2022-08-23T05:27:25.226958Z",
     "shell.execute_reply": "2022-08-23T05:27:25.225436Z"
    },
    "papermill": {
     "duration": 0.894124,
     "end_time": "2022-08-23T05:27:25.229225",
     "exception": false,
     "start_time": "2022-08-23T05:27:24.335101",
     "status": "completed"
    },
    "tags": []
   },
   "outputs": [
    {
     "data": {
      "text/plain": [
       "<seaborn.axisgrid.PairGrid at 0x7f1b54f35f50>"
      ]
     },
     "execution_count": 7,
     "metadata": {},
     "output_type": "execute_result"
    },
    {
     "data": {
      "image/png": "[encoded data removed]",
      "text/plain": [
       "<Figure size 360x360 with 6 Axes>"
      ]
     },
     "metadata": {
      "needs_background": "light"
     },
     "output_type": "display_data"
    }
   ],
   "source": [
    "sns.pairplot(data)"
   ]
  },
  {
   "cell_type": "markdown",
   "id": "08df5468",
   "metadata": {
    "papermill": {
     "duration": 0.008483,
     "end_time": "2022-08-23T05:27:25.246438",
     "exception": false,
     "start_time": "2022-08-23T05:27:25.237955",
     "status": "completed"
    },
    "tags": []
   },
   "source": [
    "## 4) Data Preprocessing"
   ]
  },
  {
   "cell_type": "code",
   "execution_count": 8,
   "id": "b4e8f3dd",
   "metadata": {
    "execution": {
     "iopub.execute_input": "2022-08-23T05:27:25.265786Z",
     "iopub.status.busy": "2022-08-23T05:27:25.265362Z",
     "iopub.status.idle": "2022-08-23T05:27:25.271148Z",
     "shell.execute_reply": "2022-08-23T05:27:25.269933Z"
    },
    "papermill": {
     "duration": 0.018423,
     "end_time": "2022-08-23T05:27:25.273637",
     "exception": false,
     "start_time": "2022-08-23T05:27:25.255214",
     "status": "completed"
    },
    "tags": []
   },
   "outputs": [],
   "source": [
    "X = data.iloc[: , :-1]\n",
    "y = data.iloc[:,1]"
   ]
  },
  {
   "cell_type": "code",
   "execution_count": 9,
   "id": "78755a53",
   "metadata": {
    "execution": {
     "iopub.execute_input": "2022-08-23T05:27:25.293437Z",
     "iopub.status.busy": "2022-08-23T05:27:25.292809Z",
     "iopub.status.idle": "2022-08-23T05:27:25.301638Z",
     "shell.execute_reply": "2022-08-23T05:27:25.300855Z"
    },
    "papermill": {
     "duration": 0.021337,
     "end_time": "2022-08-23T05:27:25.303829",
     "exception": false,
     "start_time": "2022-08-23T05:27:25.282492",
     "status": "completed"
    },
    "tags": []
   },
   "outputs": [
    {
     "data": {
      "text/html": [
       "<div>\n",
       "<style scoped>\n",
       "    .dataframe tbody tr th:only-of-type {\n",
       "        vertical-align: middle;\n",
       "    }\n",
       "\n",
       "    .dataframe tbody tr th {\n",
       "        vertical-align: top;\n",
       "    }\n",
       "\n",
       "    .dataframe thead th {\n",
       "        text-align: right;\n",
       "    }\n",
       "</style>\n",
       "<table border=\"1\" class=\"dataframe\">\n",
       "  <thead>\n",
       "    <tr style=\"text-align: right;\">\n",
       "      <th></th>\n",
       "      <th>YearsExperience</th>\n",
       "    </tr>\n",
       "  </thead>\n",
       "  <tbody>\n",
       "    <tr>\n",
       "      <th>0</th>\n",
       "      <td>1.1</td>\n",
       "    </tr>\n",
       "    <tr>\n",
       "      <th>1</th>\n",
       "      <td>1.3</td>\n",
       "    </tr>\n",
       "    <tr>\n",
       "      <th>2</th>\n",
       "      <td>1.5</td>\n",
       "    </tr>\n",
       "    <tr>\n",
       "      <th>3</th>\n",
       "      <td>2.0</td>\n",
       "    </tr>\n",
       "    <tr>\n",
       "      <th>4</th>\n",
       "      <td>2.2</td>\n",
       "    </tr>\n",
       "  </tbody>\n",
       "</table>\n",
       "</div>"
      ],
      "text/plain": [
       "   YearsExperience\n",
       "0              1.1\n",
       "1              1.3\n",
       "2              1.5\n",
       "3              2.0\n",
       "4              2.2"
      ]
     },
     "execution_count": 9,
     "metadata": {},
     "output_type": "execute_result"
    }
   ],
   "source": [
    "X.head()"
   ]
  },
  {
   "cell_type": "code",
   "execution_count": 10,
   "id": "f0812348",
   "metadata": {
    "execution": {
     "iopub.execute_input": "2022-08-23T05:27:25.324004Z",
     "iopub.status.busy": "2022-08-23T05:27:25.323398Z",
     "iopub.status.idle": "2022-08-23T05:27:25.330154Z",
     "shell.execute_reply": "2022-08-23T05:27:25.329323Z"
    },
    "papermill": {
     "duration": 0.019623,
     "end_time": "2022-08-23T05:27:25.332292",
     "exception": false,
     "start_time": "2022-08-23T05:27:25.312669",
     "status": "completed"
    },
    "tags": []
   },
   "outputs": [
    {
     "data": {
      "text/plain": [
       "0    39343.0\n",
       "1    46205.0\n",
       "2    37731.0\n",
       "3    43525.0\n",
       "4    39891.0\n",
       "Name: Salary, dtype: float64"
      ]
     },
     "execution_count": 10,
     "metadata": {},
     "output_type": "execute_result"
    }
   ],
   "source": [
    "y.head()"
   ]
  },
  {
   "cell_type": "code",
   "execution_count": 11,
   "id": "9c536794",
   "metadata": {
    "execution": {
     "iopub.execute_input": "2022-08-23T05:27:25.352359Z",
     "iopub.status.busy": "2022-08-23T05:27:25.351763Z",
     "iopub.status.idle": "2022-08-23T05:27:25.357545Z",
     "shell.execute_reply": "2022-08-23T05:27:25.356771Z"
    },
    "papermill": {
     "duration": 0.018411,
     "end_time": "2022-08-23T05:27:25.359658",
     "exception": false,
     "start_time": "2022-08-23T05:27:25.341247",
     "status": "completed"
    },
    "tags": []
   },
   "outputs": [],
   "source": [
    "X_train , X_test , y_train , y_test = train_test_split(X,y,train_size = 0.8,random_state = 10)"
   ]
  },
  {
   "cell_type": "markdown",
   "id": "f8724316",
   "metadata": {
    "papermill": {
     "duration": 0.008584,
     "end_time": "2022-08-23T05:27:25.377197",
     "exception": false,
     "start_time": "2022-08-23T05:27:25.368613",
     "status": "completed"
    },
    "tags": []
   },
   "source": [
    "## 5) Train Model"
   ]
  },
  {
   "cell_type": "code",
   "execution_count": 12,
   "id": "20402711",
   "metadata": {
    "execution": {
     "iopub.execute_input": "2022-08-23T05:27:25.397441Z",
     "iopub.status.busy": "2022-08-23T05:27:25.396743Z",
     "iopub.status.idle": "2022-08-23T05:27:25.420192Z",
     "shell.execute_reply": "2022-08-23T05:27:25.419092Z"
    },
    "papermill": {
     "duration": 0.036405,
     "end_time": "2022-08-23T05:27:25.422461",
     "exception": false,
     "start_time": "2022-08-23T05:27:25.386056",
     "status": "completed"
    },
    "scrolled": true,
    "tags": []
   },
   "outputs": [
    {
     "data": {
      "text/plain": [
       "LinearRegression()"
      ]
     },
     "execution_count": 12,
     "metadata": {},
     "output_type": "execute_result"
    }
   ],
   "source": [
    "my_model = LinearRegression()\n",
    "my_model.fit(X_train,y_train)"
   ]
  },
  {
   "cell_type": "markdown",
   "id": "16d6b5da",
   "metadata": {
    "papermill": {
     "duration": 0.008752,
     "end_time": "2022-08-23T05:27:25.440290",
     "exception": false,
     "start_time": "2022-08-23T05:27:25.431538",
     "status": "completed"
    },
    "tags": []
   },
   "source": [
    "## 6) Test Model on `X_test`"
   ]
  },
  {
   "cell_type": "code",
   "execution_count": 13,
   "id": "727957a3",
   "metadata": {
    "execution": {
     "iopub.execute_input": "2022-08-23T05:27:25.460151Z",
     "iopub.status.busy": "2022-08-23T05:27:25.459713Z",
     "iopub.status.idle": "2022-08-23T05:27:25.465487Z",
     "shell.execute_reply": "2022-08-23T05:27:25.464673Z"
    },
    "papermill": {
     "duration": 0.01835,
     "end_time": "2022-08-23T05:27:25.467605",
     "exception": false,
     "start_time": "2022-08-23T05:27:25.449255",
     "status": "completed"
    },
    "tags": []
   },
   "outputs": [],
   "source": [
    "y_pred = my_model.predict(X_test)"
   ]
  },
  {
   "cell_type": "markdown",
   "id": "b6a04966",
   "metadata": {
    "papermill": {
     "duration": 0.008707,
     "end_time": "2022-08-23T05:27:25.485446",
     "exception": false,
     "start_time": "2022-08-23T05:27:25.476739",
     "status": "completed"
    },
    "tags": []
   },
   "source": [
    "## 7) Visualize Model"
   ]
  },
  {
   "cell_type": "code",
   "execution_count": 14,
   "id": "8e9793f8",
   "metadata": {
    "execution": {
     "iopub.execute_input": "2022-08-23T05:27:25.505980Z",
     "iopub.status.busy": "2022-08-23T05:27:25.505323Z",
     "iopub.status.idle": "2022-08-23T05:27:25.717488Z",
     "shell.execute_reply": "2022-08-23T05:27:25.716322Z"
    },
    "papermill": {
     "duration": 0.225075,
     "end_time": "2022-08-23T05:27:25.719857",
     "exception": false,
     "start_time": "2022-08-23T05:27:25.494782",
     "status": "completed"
    },
    "tags": []
   },
   "outputs": [
    {
     "data": {
      "image/png": "[encoded data removed]",
      "text/plain": [
       "<Figure size 432x288 with 1 Axes>"
      ]
     },
     "metadata": {
      "needs_background": "light"
     },
     "output_type": "display_data"
    }
   ],
   "source": [
    "plt.scatter(X_test,y_test,color = 'red',)\n",
    "plt.plot(X_test,y_pred,color = 'blue' ,)\n",
    "plt.title(\"Salary vs Experience (Test set)\")\n",
    "plt.xlabel(\"Year of experiece\")\n",
    "plt.ylabel(\"Salary\")\n",
    "plt.show()"
   ]
  },
  {
   "cell_type": "markdown",
   "id": "a9754269",
   "metadata": {
    "papermill": {
     "duration": 0.009173,
     "end_time": "2022-08-23T05:27:25.738549",
     "exception": false,
     "start_time": "2022-08-23T05:27:25.729376",
     "status": "completed"
    },
    "tags": []
   },
   "source": [
    "#### Plotting Actual value and predicted value"
   ]
  },
  {
   "cell_type": "code",
   "execution_count": 15,
   "id": "309426e4",
   "metadata": {
    "execution": {
     "iopub.execute_input": "2022-08-23T05:27:25.759241Z",
     "iopub.status.busy": "2022-08-23T05:27:25.758805Z",
     "iopub.status.idle": "2022-08-23T05:27:25.961688Z",
     "shell.execute_reply": "2022-08-23T05:27:25.960774Z"
    },
    "papermill": {
     "duration": 0.216008,
     "end_time": "2022-08-23T05:27:25.963963",
     "exception": false,
     "start_time": "2022-08-23T05:27:25.747955",
     "status": "completed"
    },
    "tags": []
   },
   "outputs": [
    {
     "data": {
      "image/png": "[encoded data removed]",
      "text/plain": [
       "<Figure size 432x288 with 1 Axes>"
      ]
     },
     "metadata": {
      "needs_background": "light"
     },
     "output_type": "display_data"
    }
   ],
   "source": [
    "c = [i for i in range(1,len(y_test)+1)]\n",
    "plt.plot(c,y_test,color = 'r',linestyle = '-')\n",
    "plt.plot(c,y_pred,color = 'b',linestyle = '-')\n",
    "plt.title(\"prediction\")\n",
    "plt.xlabel('index')\n",
    "plt.ylabel('salary')\n",
    "plt.show()"
   ]
  },
  {
   "cell_type": "markdown",
   "id": "64eed779",
   "metadata": {
    "papermill": {
     "duration": 0.009633,
     "end_time": "2022-08-23T05:27:25.983684",
     "exception": false,
     "start_time": "2022-08-23T05:27:25.974051",
     "status": "completed"
    },
    "tags": []
   },
   "source": [
    "#### Plotting the error"
   ]
  },
  {
   "cell_type": "code",
   "execution_count": 16,
   "id": "77b4dde0",
   "metadata": {
    "execution": {
     "iopub.execute_input": "2022-08-23T05:27:26.006075Z",
     "iopub.status.busy": "2022-08-23T05:27:26.004771Z",
     "iopub.status.idle": "2022-08-23T05:27:26.215001Z",
     "shell.execute_reply": "2022-08-23T05:27:26.213795Z"
    },
    "papermill": {
     "duration": 0.223877,
     "end_time": "2022-08-23T05:27:26.217478",
     "exception": false,
     "start_time": "2022-08-23T05:27:25.993601",
     "status": "completed"
    },
    "tags": []
   },
   "outputs": [
    {
     "data": {
      "image/png": "[encoded data removed]",
      "text/plain": [
       "<Figure size 432x288 with 1 Axes>"
      ]
     },
     "metadata": {
      "needs_background": "light"
     },
     "output_type": "display_data"
    }
   ],
   "source": [
    "c = [i for i in range(1,len(y_test)+1)]\n",
    "plt.plot(c,y_test - y_pred ,color = 'green',linestyle = '-')\n",
    "plt.title(\"error value\")\n",
    "plt.xlabel('index')\n",
    "plt.ylabel('error')\n",
    "plt.show()"
   ]
  },
  {
   "cell_type": "markdown",
   "id": "b4f86535",
   "metadata": {
    "papermill": {
     "duration": 0.009956,
     "end_time": "2022-08-23T05:27:26.237631",
     "exception": false,
     "start_time": "2022-08-23T05:27:26.227675",
     "status": "completed"
    },
    "tags": []
   },
   "source": [
    "## 8) Calculate R2 Score\n"
   ]
  },
  {
   "cell_type": "code",
   "execution_count": 17,
   "id": "fe1d1594",
   "metadata": {
    "execution": {
     "iopub.execute_input": "2022-08-23T05:27:26.259783Z",
     "iopub.status.busy": "2022-08-23T05:27:26.259370Z",
     "iopub.status.idle": "2022-08-23T05:27:26.267815Z",
     "shell.execute_reply": "2022-08-23T05:27:26.266642Z"
    },
    "papermill": {
     "duration": 0.022419,
     "end_time": "2022-08-23T05:27:26.270175",
     "exception": false,
     "start_time": "2022-08-23T05:27:26.247756",
     "status": "completed"
    },
    "tags": []
   },
   "outputs": [
    {
     "data": {
      "text/plain": [
       "0.9816423482070253"
      ]
     },
     "execution_count": 17,
     "metadata": {},
     "output_type": "execute_result"
    }
   ],
   "source": [
    "r2_score(y_test,y_pred)"
   ]
  },
  {
   "cell_type": "markdown",
   "id": "9c99f765",
   "metadata": {
    "papermill": {
     "duration": 0.010227,
     "end_time": "2022-08-23T05:27:26.290931",
     "exception": false,
     "start_time": "2022-08-23T05:27:26.280704",
     "status": "completed"
    },
    "tags": []
   },
   "source": [
    "## 9) Calculate Root Mean Square Error"
   ]
  },
  {
   "cell_type": "code",
   "execution_count": 18,
   "id": "91d479e1",
   "metadata": {
    "execution": {
     "iopub.execute_input": "2022-08-23T05:27:26.313932Z",
     "iopub.status.busy": "2022-08-23T05:27:26.312693Z",
     "iopub.status.idle": "2022-08-23T05:27:26.320725Z",
     "shell.execute_reply": "2022-08-23T05:27:26.319854Z"
    },
    "papermill": {
     "duration": 0.021924,
     "end_time": "2022-08-23T05:27:26.323005",
     "exception": false,
     "start_time": "2022-08-23T05:27:26.301081",
     "status": "completed"
    },
    "tags": []
   },
   "outputs": [
    {
     "data": {
      "text/plain": [
       "9785570.138914324"
      ]
     },
     "execution_count": 18,
     "metadata": {},
     "output_type": "execute_result"
    }
   ],
   "source": [
    "mean_squared_error(y_test,y_pred)"
   ]
  },
  {
   "cell_type": "code",
   "execution_count": 19,
   "id": "ee6ed984",
   "metadata": {
    "execution": {
     "iopub.execute_input": "2022-08-23T05:27:26.346111Z",
     "iopub.status.busy": "2022-08-23T05:27:26.345311Z",
     "iopub.status.idle": "2022-08-23T05:27:26.352953Z",
     "shell.execute_reply": "2022-08-23T05:27:26.352047Z"
    },
    "papermill": {
     "duration": 0.022,
     "end_time": "2022-08-23T05:27:26.355363",
     "exception": false,
     "start_time": "2022-08-23T05:27:26.333363",
     "status": "completed"
    },
    "tags": []
   },
   "outputs": [
    {
     "data": {
      "text/plain": [
       "3128.1895944642365"
      ]
     },
     "execution_count": 19,
     "metadata": {},
     "output_type": "execute_result"
    }
   ],
   "source": [
    "np.sqrt(mean_squared_error(y_test, y_pred))"
   ]
  },
  {
   "cell_type": "markdown",
   "id": "9d7ad563",
   "metadata": {
    "papermill": {
     "duration": 0.010277,
     "end_time": "2022-08-23T05:27:26.376023",
     "exception": false,
     "start_time": "2022-08-23T05:27:26.365746",
     "status": "completed"
    },
    "tags": []
   },
   "source": [
    "## 10) Test Model on custom data"
   ]
  },
  {
   "cell_type": "code",
   "execution_count": 20,
   "id": "1214b519",
   "metadata": {
    "execution": {
     "iopub.execute_input": "2022-08-23T05:27:26.399425Z",
     "iopub.status.busy": "2022-08-23T05:27:26.398582Z",
     "iopub.status.idle": "2022-08-23T05:27:26.409912Z",
     "shell.execute_reply": "2022-08-23T05:27:26.408317Z"
    },
    "papermill": {
     "duration": 0.02646,
     "end_time": "2022-08-23T05:27:26.412874",
     "exception": false,
     "start_time": "2022-08-23T05:27:26.386414",
     "status": "completed"
    },
    "tags": []
   },
   "outputs": [
    {
     "name": "stderr",
     "output_type": "stream",
     "text": [
      "/opt/conda/lib/python3.7/site-packages/sklearn/base.py:451: UserWarning: X does not have valid feature names, but LinearRegression was fitted with feature names\n",
      "  \"X does not have valid feature names, but\"\n"
     ]
    },
    {
     "data": {
      "text/plain": [
       "array([68194.98010334])"
      ]
     },
     "execution_count": 20,
     "metadata": {},
     "output_type": "execute_result"
    }
   ],
   "source": [
    "my_model.predict([[4.5]])"
   ]
  },
  {
   "cell_type": "code",
   "execution_count": 21,
   "id": "58378b7f",
   "metadata": {
    "execution": {
     "iopub.execute_input": "2022-08-23T05:27:26.436848Z",
     "iopub.status.busy": "2022-08-23T05:27:26.435932Z",
     "iopub.status.idle": "2022-08-23T05:27:26.444459Z",
     "shell.execute_reply": "2022-08-23T05:27:26.443133Z"
    },
    "papermill": {
     "duration": 0.023125,
     "end_time": "2022-08-23T05:27:26.446823",
     "exception": false,
     "start_time": "2022-08-23T05:27:26.423698",
     "status": "completed"
    },
    "tags": []
   },
   "outputs": [
    {
     "name": "stderr",
     "output_type": "stream",
     "text": [
      "/opt/conda/lib/python3.7/site-packages/sklearn/base.py:451: UserWarning: X does not have valid feature names, but LinearRegression was fitted with feature names\n",
      "  \"X does not have valid feature names, but\"\n"
     ]
    },
    {
     "data": {
      "text/plain": [
       "array([82230.27459365])"
      ]
     },
     "execution_count": 21,
     "metadata": {},
     "output_type": "execute_result"
    }
   ],
   "source": [
    "my_model.predict([[6]])"
   ]
  },
  {
   "cell_type": "markdown",
   "id": "64ef37e8",
   "metadata": {
    "papermill": {
     "duration": 0.010709,
     "end_time": "2022-08-23T05:27:26.468443",
     "exception": false,
     "start_time": "2022-08-23T05:27:26.457734",
     "status": "completed"
    },
    "tags": []
   },
   "source": [
    "## 11) Get Model Parameters"
   ]
  },
  {
   "cell_type": "code",
   "execution_count": 22,
   "id": "78175916",
   "metadata": {
    "execution": {
     "iopub.execute_input": "2022-08-23T05:27:26.491783Z",
     "iopub.status.busy": "2022-08-23T05:27:26.491370Z",
     "iopub.status.idle": "2022-08-23T05:27:26.498197Z",
     "shell.execute_reply": "2022-08-23T05:27:26.496715Z"
    },
    "papermill": {
     "duration": 0.021345,
     "end_time": "2022-08-23T05:27:26.500626",
     "exception": false,
     "start_time": "2022-08-23T05:27:26.479281",
     "status": "completed"
    },
    "tags": []
   },
   "outputs": [
    {
     "name": "stdout",
     "output_type": "stream",
     "text": [
      "Intercept of model :  26089.09663241673\n",
      "Coefficeint of line :  [9356.86299354]\n"
     ]
    }
   ],
   "source": [
    "print(\"Intercept of model : \", my_model.intercept_)\n",
    "print(\"Coefficeint of line : \", my_model.coef_)"
   ]
  }
 ],
 "metadata": {
  "kernelspec": {
   "display_name": "Python 3",
   "language": "python",
   "name": "python3"
  },
  "language_info": {
   "codemirror_mode": {
    "name": "ipython",
    "version": 3
   },
   "file_extension": ".py",
   "mimetype": "text/x-python",
   "name": "python",
   "nbconvert_exporter": "python",
   "pygments_lexer": "ipython3",
   "version": "3.7.12"
  },
  "papermill": {
   "default_parameters": {},
   "duration": 13.975641,
   "end_time": "2022-08-23T05:27:27.334716",
   "environment_variables": {},
   "exception": null,
   "input_path": "__notebook__.ipynb",
   "output_path": "__notebook__.ipynb",
   "parameters": {},
   "start_time": "2022-08-23T05:27:13.359075",
   "version": "2.3.4"
  }
 },
 "nbformat": 4,
 "nbformat_minor": 5
}
